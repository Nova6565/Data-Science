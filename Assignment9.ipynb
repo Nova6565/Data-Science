{
 "cells": [
  {
   "cell_type": "code",
   "execution_count": 1,
   "id": "b6bcf0b1-6977-43b6-b21e-03618362c7c6",
   "metadata": {},
   "outputs": [],
   "source": [
    "import numpy as np"
   ]
  },
  {
   "cell_type": "markdown",
   "id": "298b7543-dc93-4e85-a6ee-5397fd691c27",
   "metadata": {},
   "source": [
    "Q1"
   ]
  },
  {
   "cell_type": "code",
   "execution_count": 2,
   "id": "07190305-6510-4f63-bfab-317fa3857a64",
   "metadata": {},
   "outputs": [
    {
     "name": "stdout",
     "output_type": "stream",
     "text": [
      "Q1:\n",
      " [[ 0  2  4  6  8]\n",
      " [10 12 14 16 18]] \n",
      "\n"
     ]
    }
   ],
   "source": [
    "arr_q1 = np.arange(0, 20, 2).reshape(2, 5)\n",
    "print(\"Q1:\\n\", arr_q1, \"\\n\")"
   ]
  },
  {
   "cell_type": "markdown",
   "id": "24860024-a7f2-4139-ab40-4487221104e2",
   "metadata": {},
   "source": [
    "Q2"
   ]
  },
  {
   "cell_type": "code",
   "execution_count": 6,
   "id": "8e5a5e73-f041-4f97-92c2-cdfa1edac745",
   "metadata": {},
   "outputs": [
    {
     "name": "stdout",
     "output_type": "stream",
     "text": [
      "Original Q2:\n",
      " [[-4 -3  3  0 -5 -1]]\n",
      "Modified Q2 (negatives replaced with 0):\n",
      " [[0 0 3 0 0 0]] \n",
      "\n"
     ]
    }
   ],
   "source": [
    "arr_q2 = np.random.randint(-6, 6, size=(1, 6)) \n",
    "print(\"Original Q2:\\n\", arr_q2)\n",
    "arr_q2[arr_q2 < 0] = 0\n",
    "print(\"Modified Q2 (negatives replaced with 0):\\n\", arr_q2, \"\\n\")"
   ]
  },
  {
   "cell_type": "markdown",
   "id": "0114f6cc-5923-4be3-b094-c232ea650ad5",
   "metadata": {},
   "source": [
    "Q3"
   ]
  },
  {
   "cell_type": "code",
   "execution_count": 7,
   "id": "913fc77e-a485-4fa9-bdeb-468e5b4fdc5b",
   "metadata": {},
   "outputs": [
    {
     "name": "stdout",
     "output_type": "stream",
     "text": [
      "Q3 A:\n",
      " [[ 1.03071584 -0.5267399 ]\n",
      " [ 1.73869118 -0.501118  ]]\n",
      "Q3 B:\n",
      " [[ 0.97358679 -0.7002781 ]\n",
      " [-0.62334984  0.44688011]]\n",
      "Q3 result ((A+B)*(-A/2)):\n",
      " [[-1.03293323 -0.32315967]\n",
      " [-0.96961708 -0.01358979]] \n",
      "\n"
     ]
    }
   ],
   "source": [
    "A = np.random.randn(2, 2)  \n",
    "B = np.random.randn(2, 2)\n",
    "res_q3 = (A + B) * (-A / 2)\n",
    "print(\"Q3 A:\\n\", A)\n",
    "print(\"Q3 B:\\n\", B)\n",
    "print(\"Q3 result ((A+B)*(-A/2)):\\n\", res_q3, \"\\n\")"
   ]
  },
  {
   "cell_type": "markdown",
   "id": "a8281b22-34bc-44e7-a786-dce740886b83",
   "metadata": {},
   "source": [
    "Q4"
   ]
  },
  {
   "cell_type": "code",
   "execution_count": 10,
   "id": "0e5abb42-b98b-4cc8-94f7-393b46bfd012",
   "metadata": {},
   "outputs": [
    {
     "name": "stdout",
     "output_type": "stream",
     "text": [
      "[[1 2 5 6]\n",
      " [3 4 7 8]]\n"
     ]
    }
   ],
   "source": [
    "arr1 = np.array([[1, 2],\n",
    "                 [3, 4]])\n",
    "arr2 = np.array([[5, 6],\n",
    "                 [7, 8]])\n",
    "concatenated = np.hstack((arr1, arr2))\n",
    "print(concatenated)"
   ]
  },
  {
   "cell_type": "markdown",
   "id": "c61c7ded-5407-4329-9cfb-9e978463a567",
   "metadata": {},
   "source": [
    "Q5"
   ]
  },
  {
   "cell_type": "code",
   "execution_count": 11,
   "id": "0c8dcfc9-5851-46aa-b66f-47362525034d",
   "metadata": {},
   "outputs": [
    {
     "name": "stdout",
     "output_type": "stream",
     "text": [
      "Original Q5:\n",
      " [[12 10  6]\n",
      " [ 5  4  8]\n",
      " [ 5 10  5]]\n",
      "Q5 sorted by columns:\n",
      " [[ 5  4  5]\n",
      " [ 5 10  6]\n",
      " [12 10  8]]\n"
     ]
    }
   ],
   "source": [
    "arr_q5 = np.random.randint(1, 20, (3, 3))\n",
    "print(\"Original Q5:\\n\", arr_q5)\n",
    "arr_q5.sort(axis=0)  \n",
    "print(\"Q5 sorted by columns:\\n\", arr_q5)"
   ]
  },
  {
   "cell_type": "code",
   "execution_count": null,
   "id": "ee702af9-24a7-49c7-b0b2-7b761ad8500e",
   "metadata": {},
   "outputs": [],
   "source": []
  }
 ],
 "metadata": {
  "kernelspec": {
   "display_name": "Python 3 (ipykernel)",
   "language": "python",
   "name": "python3"
  },
  "language_info": {
   "codemirror_mode": {
    "name": "ipython",
    "version": 3
   },
   "file_extension": ".py",
   "mimetype": "text/x-python",
   "name": "python",
   "nbconvert_exporter": "python",
   "pygments_lexer": "ipython3",
   "version": "3.12.1"
  }
 },
 "nbformat": 4,
 "nbformat_minor": 5
}
